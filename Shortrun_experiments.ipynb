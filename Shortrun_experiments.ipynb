{
 "cells": [
  {
   "cell_type": "markdown",
   "metadata": {},
   "source": [
    "### 0. Импорт библиотек\n",
    "### 1. Модуль прогноза ДВК\n",
    "### 2. Модуль краткосрочного прогноза\n",
    "### 3. Вывод результатов"
   ]
  },
  {
   "cell_type": "code",
   "execution_count": null,
   "metadata": {},
   "outputs": [],
   "source": [
    "%pylab inline\n",
    "import numpy as np\n",
    "import pandas as pd\n",
    "import pylab as plt\n",
    "from datetime import datetime\n",
    "\n",
    "import tensorflow as tf\n",
    "from tensorflow.keras.models import Sequential\n",
    "from tensorflow.keras.layers import Dense, Activation\n",
    "from tensorflow.keras import optimizers\n",
    "from tensorflow.keras.callbacks import TensorBoard\n",
    "\n",
    "\n",
    "from sklearn.model_selection import train_test_split, GridSearchCV, KFold, cross_val_score\n",
    "from sklearn.ensemble import BaggingRegressor, GradientBoostingRegressor\n",
    "from sklearn.metrics import r2_score\n",
    "from sklearn.ensemble import RandomForestRegressor\n",
    "from sklearn.linear_model import LinearRegression\n",
    "from sklearn.metrics import mean_squared_error\n",
    "from sklearn.tree import DecisionTreeRegressor\n",
    "\n",
    "import seaborn as sns\n",
    "sns.set(style=\"darkgrid\")\n",
    "from IPython.display import Markdown, display\n",
    "from sklearn.linear_model import Ridge\n",
    "\n",
    "import ppscore as pps\n",
    "\n",
    "def printmd(string):\n",
    "    display(Markdown(string))\n",
    "\n",
    "pd.options.display.max_rows = 999\n",
    "pd.options.display.max_columns = 999\n",
    "\n",
    "\n",
    "RND_SEED=1987"
   ]
  },
  {
   "cell_type": "code",
   "execution_count": null,
   "metadata": {},
   "outputs": [],
   "source": [
    "#function for  choosing a model\n",
    "def model_selection(feat, obj):\n",
    "    \n",
    "    #tree\n",
    "    tree = DecisionTreeRegressor(random_state=RND_SEED)\n",
    "    mse = -cross_val_score(tree, feat, obj, cv=cv, \n",
    "                       scoring='neg_mean_squared_error').mean()\n",
    "    best_model = tree\n",
    "    global min_mse\n",
    "    min_mse = mse\n",
    "            \n",
    "    #fit linear regression for eur\n",
    "#     linreg = LinearRegression()\n",
    "#     mse = -cross_val_score(linreg, feat, obj, cv=cv, \n",
    "#                        scoring='neg_mean_squared_error').mean()\n",
    "    #choosing best model\n",
    "    if mse < min_mse:\n",
    "        min_mse = mse\n",
    "        best_model = linreg\n",
    "        \n",
    "    #Random Forest regression    \n",
    "    rfreg = RandomForestRegressor(n_estimators=300)\n",
    "    # rfreg.fit(X_train.reshape(-1,1), y_train)\n",
    "    # y_pred = rfreg.predict(X_test.reshape(-1,1))\n",
    "\n",
    "    # print('R2 score:', r2_score (y_test,y_pred))\n",
    "    # print('MSE:', mean_squared_error(y_test,y_pred))\n",
    "    mse = -cross_val_score(rfreg, feat, obj, cv=cv, \n",
    "                           scoring='neg_mean_squared_error').mean()\n",
    "    if mse < min_mse:\n",
    "        min_mse = mse\n",
    "        best_model = rfreg\n",
    "        \n",
    "    gbreg = GradientBoostingRegressor(max_depth=1, learning_rate=0.1, warm_start=True, n_estimators=250)\n",
    "    # gbreg.fit(X_train.reshape(-1, 1), y_train)\n",
    "    # y_pred = gbreg.predict(X_test.reshape(-1, 1))\n",
    "    mse = -cross_val_score(gbreg, feat, obj, cv=cv, \n",
    "                           scoring='neg_mean_squared_error').mean()\n",
    "    if mse < min_mse:\n",
    "        min_mse = mse\n",
    "        best_model = gbreg\n",
    "    # print('R2 score:', r2_score (y_test,y_pred))\n",
    "    # print('MSE:', mean_squared_error(y_test,y_pred))\n",
    "    \n",
    "    #fit linear regression for eur\n",
    "    rdg = Ridge(alpha=2)\n",
    "    # linreg.fit(X_train.reshape(-1,1),y_train)\n",
    "    # y_pred = linreg.predict(X_test.reshape(-1,1))\n",
    "\n",
    "    mse = -cross_val_score(rdg, feat, obj, cv=cv, \n",
    "                           scoring='neg_mean_squared_error').mean()\n",
    "    #choosing best model\n",
    "    if mse < min_mse:\n",
    "        min_mse = mse\n",
    "        best_model = rdg\n",
    "    \n",
    "    bagreg = BaggingRegressor(n_estimators=30)\n",
    "    mse = -cross_val_score(bagreg, feat, obj, cv=cv, \n",
    "                           scoring='neg_mean_squared_error').mean()\n",
    "\n",
    "    if mse < min_mse:\n",
    "        min_mse = mse\n",
    "        best_model = bagreg\n",
    "    \n",
    "    \n",
    "    \n",
    "    \n",
    " \n",
    "\n",
    "    return best_model\n",
    "    "
   ]
  },
  {
   "cell_type": "code",
   "execution_count": null,
   "metadata": {},
   "outputs": [],
   "source": [
    "def baseline_model():\n",
    "    model = Sequential()\n",
    "    model.add(Dense(3, input_dim = 1))\n",
    "    model.add(Activation('relu'))\n",
    "    model.add(Dense(1, input_dim = 3))\n",
    "    model.add(Activation('linear'))\n",
    "    model.compile(loss = 'mean_squared_error', optimizer = 'sgd')\n",
    "    return model"
   ]
  },
  {
   "cell_type": "markdown",
   "metadata": {},
   "source": [
    "\n",
    "# 1. Модуль ДВК"
   ]
  },
  {
   "cell_type": "code",
   "execution_count": null,
   "metadata": {},
   "outputs": [],
   "source": [
    "#read file for DVK forecast\n",
    "\n",
    "df = pd.read_excel('DVK.xlsx', sheet_name='sheet0', header=None)\n",
    "print(df.shape)\n",
    "df[0:10]"
   ]
  },
  {
   "cell_type": "code",
   "execution_count": null,
   "metadata": {},
   "outputs": [],
   "source": [
    "#cleaning dataframe\n",
    "df.drop([0,1,2,3,4,5], axis = 0, inplace = True)\n",
    "df.head()"
   ]
  },
  {
   "cell_type": "code",
   "execution_count": null,
   "metadata": {},
   "outputs": [],
   "source": [
    "df.reset_index(inplace = True, drop = True)\n",
    "df.head()"
   ]
  },
  {
   "cell_type": "code",
   "execution_count": null,
   "metadata": {},
   "outputs": [],
   "source": [
    "#creating names for cols\n",
    "df.columns = ['date','eurusd','eurchf','gbpusd']"
   ]
  },
  {
   "cell_type": "code",
   "execution_count": null,
   "metadata": {},
   "outputs": [],
   "source": [
    "df.head()"
   ]
  },
  {
   "cell_type": "code",
   "execution_count": null,
   "metadata": {},
   "outputs": [],
   "source": [
    "# calculate monthly averages\n",
    "count = 0\n",
    "index = 0\n",
    "sumeur = 0\n",
    "sumchf = 0\n",
    "sumgbp = 0\n",
    "eurusd_mean = []\n",
    "chf_mean = []\n",
    "gbp_mean = []\n",
    "\n",
    "for i in range(df.shape[0]-1):\n",
    "    if df['date'].iloc[index].month == df['date'].iloc[index+1].month:\n",
    "        sumeur = sumeur + df['eurusd'].iloc[index]\n",
    "        sumchf = sumchf + df['eurchf'].iloc[index]\n",
    "        sumgbp = sumgbp + df['gbpusd'].iloc[index]\n",
    "        \n",
    "        count = count + 1\n",
    "        index = index + 1\n",
    "    else:\n",
    "        sumeur = sumeur + df['eurusd'].iloc[index]\n",
    "        sumchf = sumchf + df['eurchf'].iloc[index]\n",
    "        sumgbp = sumgbp + df['gbpusd'].iloc[index]\n",
    "        \n",
    "        count = count + 1\n",
    "                \n",
    "        mean_eur = sumeur/count\n",
    "        eurusd_mean.append(mean_eur)\n",
    "        \n",
    "        mean_chf = sumchf/count\n",
    "        chf_mean.append(mean_chf)\n",
    "        \n",
    "        mean_gbp = sumgbp/count\n",
    "        gbp_mean.append(mean_gbp)\n",
    "        \n",
    "        \n",
    "        count = 0\n",
    "        sumchf = 0\n",
    "        sumgbp = 0\n",
    "        sumeur = 0\n",
    "        index = index + 1\n",
    "\n",
    "        \n",
    "\n",
    "\n",
    "    \n",
    "    \n"
   ]
  },
  {
   "cell_type": "code",
   "execution_count": null,
   "metadata": {},
   "outputs": [],
   "source": [
    "#forming dataframe from monthly means\n",
    "\n",
    "means = pd.DataFrame(\n",
    "    {'eurusd':eurusd_mean,\n",
    "     'eurchf':chf_mean,\n",
    "     'gbpusd':gbp_mean\n",
    "    })"
   ]
  },
  {
   "cell_type": "code",
   "execution_count": null,
   "metadata": {},
   "outputs": [],
   "source": [
    "# попробуем потестировать pps. \n",
    "\n",
    "means_without_na = means[0:255]\n",
    "means_without_na\n",
    "pps.score(means_without_na, \"gbpusd\", \"eurchf\")\n",
    "pps.matrix(means_without_na)"
   ]
  },
  {
   "cell_type": "code",
   "execution_count": null,
   "metadata": {},
   "outputs": [],
   "source": [
    "# создаем массив лагов для каждой валютной пары\n",
    "X_eurusd = means_without_na['eurusd'][1:]\n",
    "X_eurchf = means_without_na['eurchf'][1:]\n",
    "X_gbpusd = means_without_na['gbpusd'][1:]\n",
    "\n",
    "#создаем массив целевых переменных\n",
    "y_eurusd = means_without_na['eurusd'][0:254]\n",
    "y_eurchf = means_without_na['eurchf'][0:254]\n",
    "y_gbpusd = means_without_na['gbpusd'][0:254]\n",
    "\n",
    "#Сделаем разбивку на трейн и тест\n",
    "breakpoint = 30\n",
    "X_eurusd_train = X_eurusd[breakpoint:]\n",
    "X_eurusd_test = X_eurusd[0:breakpoint]\n",
    "X_eurchf_train = X_eurchf[breakpoint:]\n",
    "X_eurchf_test = X_eurchf[0:breakpoint]\n",
    "X_gbpusd_train = X_gbpusd[breakpoint:]\n",
    "X_gbpusd_test = X_gbpusd[0:breakpoint]\n",
    "\n",
    "y_eurusd_train = y_eurusd[breakpoint:]\n",
    "y_eurusd_test = y_eurusd[0:breakpoint]\n",
    "y_eurchf_train = y_eurchf[breakpoint:]\n",
    "y_eurchf_test = y_eurchf[0:breakpoint]\n",
    "y_gbpusd_train = y_gbpusd[breakpoint:]\n",
    "y_gbpusd_test = y_gbpusd[0:breakpoint]\n",
    "\n"
   ]
  },
  {
   "cell_type": "code",
   "execution_count": null,
   "metadata": {},
   "outputs": [],
   "source": [
    "#массив предиктов\n",
    "\n",
    "predictions = pd.DataFrame(columns = ['fed_target', 'ecb_key', 'eurusd', 'eurchf', 'gbpusd', 'bunds2', 'bunds5', 'bunds10', \n",
    "                                      'ust2', 'ust5', 'ust10', 'eu_libor3', 'us_libor3'], \n",
    "                           index=['m+0', 'm+1', 'm+2', 'm+3', 'm+4', 'm+5', 'm+6', 'm+7', 'm+8', 'm+9', 'm+10', 'm+11', 'm+12'])\n"
   ]
  },
  {
   "cell_type": "code",
   "execution_count": null,
   "metadata": {},
   "outputs": [],
   "source": [
    "#функция для отбора нейросетей\n",
    "def ann_model(Xtrain, ytrain, Xtest, ytest):\n",
    "    min_mse = 1  \n",
    "    for n_neurons in range(1,4):\n",
    "        for i in [1e-2,1e-3,1e-4]:\n",
    "            model = Sequential()\n",
    "            model.add(tf.keras.Input(shape=(1,)))\n",
    "            model.add(Dense(n_neurons, activation='linear'))\n",
    "            model.add(Dense(1, activation='linear'))\n",
    "            opt = optimizers.Adam(lr = i)\n",
    "            model.compile(loss = 'mean_squared_error', optimizer = opt)\n",
    "            history = model.fit(Xtrain, ytrain, validation_data = (Xtest, ytest), epochs = 50, verbose = 0)\n",
    "\n",
    "            # Plot training & validation loss values\n",
    "\n",
    "            plt.plot(history.history['loss'])\n",
    "            plt.plot(history.history['val_loss'])\n",
    "            title_text = 'Feature_name: ' + str(Xtrain[2:8]) + '\\n' + 'Model parameters:' + str(n_neurons) + ' neurons, ' + str(i) + ' learning rate'\n",
    "            plt.title(title_text)\n",
    "            plt.ylabel('Loss')\n",
    "            plt.xlabel('Epoch')\n",
    "            plt.legend(['Train', 'Test'], loc='upper left')\n",
    "            plt.show()\n",
    "            print('Ошибка на тестовом сете: ', history.history['val_loss'][-1])\n",
    "\n",
    "            current_mse = history.history['val_loss'][-1]\n",
    "            if current_mse < min_mse:\n",
    "                min_mse = current_mse\n",
    "                best_model = model\n",
    "\n",
    "    return best_model, min_mse"
   ]
  },
  {
   "cell_type": "code",
   "execution_count": null,
   "metadata": {},
   "outputs": [],
   "source": [
    "#составление массива с прогнозами\n",
    "def fill_predictions(predictions, currency_pair, model):\n",
    "    #заполняем раздел в файле прогнозов\n",
    "    #pred = np.reshape(model.predict([means_without_na[currency_pair][1]]), -1)\n",
    "    predictions[currency_pair][0] = means_without_na[currency_pair][0]\n",
    "\n",
    "    for i in range(1, 13):\n",
    "        pred = np.reshape(ann.predict([float(predictions[currency_pair][i-1])]), -1)\n",
    "        predictions[currency_pair][i] = pred[0]\n",
    "\n",
    "    return predictions"
   ]
  },
  {
   "cell_type": "code",
   "execution_count": null,
   "metadata": {},
   "outputs": [],
   "source": [
    "# прогоняем модель на всех трех валютных парах\n",
    "best_model, min_mse = ann_model(X_eurusd_train, y_eurusd_train,X_eurusd_test, y_eurusd_test)\n",
    "predictions = fill_predictions(predictions, 'eurusd', best_model)\n",
    "\n",
    "best_model, min_mse = ann_model(X_gbpusd_train, y_gbpusd_train,X_gbpusd_test, y_gbpusd_test)\n",
    "predictions = fill_predictions(predictions, 'gbpusd', best_model)\n",
    "\n",
    "best_model, min_mse = ann_model(X_eurchf_train, y_eurchf_train,X_eurchf_test, y_eurchf_test)\n",
    "predictions = fill_predictions(predictions, 'eurchf', best_model)"
   ]
  },
  {
   "cell_type": "code",
   "execution_count": null,
   "metadata": {},
   "outputs": [],
   "source": [
    "predictions_vertical = predictions.T\n",
    "predictions_vertical"
   ]
  },
  {
   "cell_type": "code",
   "execution_count": null,
   "metadata": {},
   "outputs": [],
   "source": [
    "#оценили модель\n",
    "ann = baseline_model()\n",
    "history = ann.fit(X_eurchf_train, y_eurchf_train, validation_data = (X_eurchf_test, y_eurchf_test), epochs = 500, verbose = 0)\n",
    "\n",
    "# Plot training & validation loss values\n",
    "plt.plot(history.history['loss'])\n",
    "plt.plot(history.history['val_loss'])\n",
    "plt.title('Model loss')\n",
    "plt.ylabel('Loss')\n",
    "plt.xlabel('Epoch')\n",
    "plt.legend(['Train', 'Test'], loc='upper left')\n",
    "plt.show()\n",
    "print('Ошибка на тестовом сете: ', history.history['val_loss'][-1])\n",
    "\n",
    "#заполняем раздел в файле прогнозов\n",
    "pred = np.reshape(ann.predict([means_without_na['eurchf'][1]]), -1)\n",
    "predictions['eurchf'][0] = pred[0]\n",
    "\n",
    "for i in range(1, 7):\n",
    "    pred = np.reshape(ann.predict([float(predictions['eurchf'][i-1])]), -1)\n",
    "    predictions['eurchf'][i] = pred[0]\n",
    "    \n",
    "predictions"
   ]
  },
  {
   "cell_type": "code",
   "execution_count": null,
   "metadata": {},
   "outputs": [],
   "source": [
    "means.isna().sum()"
   ]
  },
  {
   "cell_type": "code",
   "execution_count": null,
   "metadata": {},
   "outputs": [],
   "source": [
    "cv = KFold(3, random_state=RND_SEED)"
   ]
  },
  {
   "cell_type": "code",
   "execution_count": null,
   "metadata": {},
   "outputs": [],
   "source": [
    "#splitting into train and test\n",
    "\n",
    "X = means['eurusd'][1:(len(means['eurusd'])-means['eurusd'].isna().sum())-1].values\n",
    "\n",
    "y = means['eurusd'][0:(len(means['eurusd'])-means['eurusd'].isna().sum())-2].values\n",
    "\n",
    "X_train = means['eurusd'][int(0.3*(len(means['eurusd']))):(len(means['eurusd'])-means['eurusd'].isna().sum())-1].values\n",
    "X_test = means['eurusd'][1:int(0.3*(len(means['eurusd'])))].values\n",
    "y_train = means['eurusd'][int(0.3*(len(means['eurusd']))-1):(len(means['eurusd'])-means['eurusd'].isna().sum())-2].values\n",
    "y_test = means['eurusd'][0:int(0.3*(len(means['eurusd'])) - 1)].values"
   ]
  },
  {
   "cell_type": "code",
   "execution_count": null,
   "metadata": {},
   "outputs": [],
   "source": [
    "#reshape array\n",
    "X = X.reshape(-1,1)"
   ]
  },
  {
   "cell_type": "code",
   "execution_count": null,
   "metadata": {},
   "outputs": [],
   "source": [
    "shape(X_train)"
   ]
  },
  {
   "cell_type": "code",
   "execution_count": null,
   "metadata": {},
   "outputs": [],
   "source": [
    "def baseline_model():\n",
    "    model = Sequential()\n",
    "    model.add(Dense(5, input_dim = 1))\n",
    "    model.add(Activation('relu'))\n",
    "    model.add(Dense(1, input_dim = 5))\n",
    "    model.add(Activation('exponential'))\n",
    "    sgd = optimizers.SGD(lr=0.025)\n",
    "    model.compile(loss = 'mean_squared_error', optimizer = sgd)\n",
    "    \n",
    "    return model\n"
   ]
  },
  {
   "cell_type": "code",
   "execution_count": null,
   "metadata": {},
   "outputs": [],
   "source": [
    "\n",
    "\n",
    "ann = baseline_model()\n",
    "print(ann.summary())\n",
    "history = ann.fit(X_train, y_train, validation_data = (X_test, y_test), epochs = 150, verbose = 0)\n",
    "\n",
    "# Plot training & validation loss values\n",
    "plt.plot(history.history['loss'])\n",
    "plt.plot(history.history['val_loss'])\n",
    "plt.title('Model loss')\n",
    "plt.ylabel('Loss')\n",
    "plt.xlabel('Epoch')\n",
    "plt.legend(['Train', 'Test'], loc='upper left')\n",
    "plt.show()\n",
    "print('Ошибка на тестовом сете: ', history.history['val_loss'][-1])"
   ]
  },
  {
   "cell_type": "code",
   "execution_count": null,
   "metadata": {},
   "outputs": [],
   "source": []
  },
  {
   "cell_type": "code",
   "execution_count": null,
   "metadata": {},
   "outputs": [],
   "source": [
    "#forming an array of predictions for 4 months\n",
    "\n",
    "model = model_selection(X_train.reshape(-1,1),y_train)\n",
    "model.fit(X_train.reshape(-1,1),y_train)\n",
    "eurfc = []\n",
    "eurfc.append(means['eurusd'][0])\n",
    "for i in range(1,4):\n",
    "    eurfc.append(model.predict(eurfc[i-1].reshape(-1,1)))\n",
    "print('прогнозы:',eurfc)\n",
    "print('MSE:',min_mse)\n",
    "y_pred = model.predict(X_test.reshape(-1,1))\n",
    "print(model)"
   ]
  },
  {
   "cell_type": "code",
   "execution_count": null,
   "metadata": {},
   "outputs": [],
   "source": [
    "y_ann = ann.predict(X_test.reshape(-1,1))\n",
    "ann_mse = mean_squared_error(y_test, y_ann)\n",
    "y_pred = model.predict(X_test.reshape(-1,1))\n",
    "model_mse = mean_squared_error(y_test, y_pred)\n",
    "print('ANN:', ann_mse)\n",
    "print('Model:', model_mse )\n",
    "print(shape(y_ann))\n",
    "print(shape(y_pred))"
   ]
  },
  {
   "cell_type": "code",
   "execution_count": null,
   "metadata": {},
   "outputs": [],
   "source": [
    "# g1 = sns.relplot(kind=\"line\", data=y_test)\n",
    "# g2 = sns.relplot(kind=\"line\", data=y_pred);\n",
    "\n",
    "plt.figure(figsize=(15,10))\n",
    "plt.plot(y_pred, label = 'model selection prediction')\n",
    "plt.plot(y_test, label = 'fact')\n",
    "plt.legend(loc=\"upper left\")\n",
    "plt.grid(True)\n",
    "plt.gca().invert_xaxis()\n"
   ]
  },
  {
   "cell_type": "code",
   "execution_count": null,
   "metadata": {},
   "outputs": [],
   "source": [
    "plt.figure(figsize=(15,10))\n",
    "plt.plot(y_ann, label = 'ANN')\n",
    "plt.plot(y_test, label = 'test')\n",
    "plt.legend(loc=\"upper left\")\n",
    "plt.grid(True)\n",
    "plt.gca().invert_xaxis()"
   ]
  },
  {
   "cell_type": "code",
   "execution_count": null,
   "metadata": {},
   "outputs": [],
   "source": [
    "#Try to fit linear regression\n",
    "\n",
    "linreg = LinearRegression()\n",
    "mse = -cross_val_score(linreg, X_train.reshape(-1,1), y_train, cv=cv, \n",
    "                       scoring='neg_mean_squared_error').mean()\n",
    "linreg = linreg.fit(X_train.reshape(-1,1),y_train)\n",
    "linreg_pred = linreg.predict(X_test.reshape(-1,1))\n",
    "linreg_mse = mean_squared_error(y_test,linreg_pred)\n",
    "print(linreg_mse)"
   ]
  },
  {
   "cell_type": "code",
   "execution_count": null,
   "metadata": {},
   "outputs": [],
   "source": [
    "#splitting into train and test\n",
    "X_train = means['eurchf'][int(0.2*(len(means['eurchf']))):(len(means['eurchf'])-means['eurchf'].isna().sum())-1].values\n",
    "X_test = means['eurchf'][1:int(0.2*(len(means['eurchf'])))].values\n",
    "y_train = means['eurchf'][int(0.2*(len(means['eurchf']))-1):(len(means['eurchf'])-means['eurchf'].isna().sum())-2].values\n",
    "y_test = means['eurchf'][0:int(0.2*(len(means['eurchf'])) - 1)].values\n",
    "\n",
    "X = means['eurchf'][1:(len(means['eurchf'])-means['eurchf'].isna().sum())-1].values\n",
    "\n",
    "y = means['eurchf'][0:(len(means['eurchf'])-means['eurchf'].isna().sum())-2].values\n",
    "\n",
    "len(X_train), len(X_test)\n",
    "#reshape array\n",
    "X = X.reshape(-1,1)"
   ]
  },
  {
   "cell_type": "code",
   "execution_count": null,
   "metadata": {},
   "outputs": [],
   "source": [
    "#forming array of predictions\n",
    "model = model_selection(X_train.reshape(-1,1),y_train)\n",
    "model.fit(X_train.reshape(-1,1),y_train)\n",
    "\n",
    "chffc = []\n",
    "chffc.append(means['eurchf'][0])\n",
    "for i in range(1,4):\n",
    "    chffc.append(model.predict(chffc[i-1].reshape(-1,1)))\n",
    "print(chffc)\n",
    "print('MSE:',min_mse)\n",
    "print(model)\n"
   ]
  },
  {
   "cell_type": "code",
   "execution_count": null,
   "metadata": {},
   "outputs": [],
   "source": [
    "#splitting into train and test\n",
    "X_train = means['gbpusd'][int(0.2*(len(means['gbpusd']))):(len(means['gbpusd'])-means['gbpusd'].isna().sum())-1].values\n",
    "X_test = means['gbpusd'][1:int(0.2*(len(means['gbpusd'])))].values\n",
    "y_train = means['gbpusd'][int(0.2*(len(means['gbpusd']))-1):(len(means['gbpusd'])-means['gbpusd'].isna().sum())-2].values\n",
    "y_test = means['gbpusd'][0:int(0.2*(len(means['gbpusd'])) - 1)].values\n",
    "\n",
    "X = means['gbpusd'][1:(len(means['gbpusd'])-means['gbpusd'].isna().sum())-1].values\n",
    "\n",
    "y = means['gbpusd'][0:(len(means['gbpusd'])-means['gbpusd'].isna().sum())-2].values\n",
    "\n",
    "len(X), len(X_test)\n",
    "\n",
    "#reshape array\n",
    "X = X.reshape(-1,1)"
   ]
  },
  {
   "cell_type": "code",
   "execution_count": null,
   "metadata": {},
   "outputs": [],
   "source": [
    "# plt.gca().invert_xaxis()\n",
    "# plt.plot(y_pred, label = 'pred')\n",
    "# plt.plot(y_test, label = 'test')\n",
    "# plt.legend(loc=\"upper left\")\n",
    "# plt.grid(True)"
   ]
  },
  {
   "cell_type": "code",
   "execution_count": null,
   "metadata": {},
   "outputs": [],
   "source": [
    "#forming an array of predictions for 4 months\n",
    "model = model_selection(X_train.reshape(-1,1),y_train)\n",
    "model.fit(X_train.reshape(-1,1),y_train)\n",
    "\n",
    "gbpfc = []\n",
    "gbpfc.append(means['gbpusd'][0])\n",
    "for i in range(1,4):\n",
    "    gbpfc.append(model.predict(gbpfc[i-1].reshape(-1,1)))\n",
    "print(gbpfc)\n",
    "print('MSE:',min_mse)\n",
    "print(model)"
   ]
  },
  {
   "cell_type": "markdown",
   "metadata": {},
   "source": [
    "# 2. Модуль краткосрочного прогноза"
   ]
  },
  {
   "cell_type": "code",
   "execution_count": null,
   "metadata": {},
   "outputs": [],
   "source": [
    "#read file for shortrun forecast and preprocess it\n",
    "\n",
    "scf = pd.read_excel('shortrun.xlsx', sheet_name='sheet0', header=None)\n",
    "print(scf.shape)\n",
    "\n",
    "scf.drop(scf.index[0:6], axis = 0, inplace = True)\n",
    "scf.drop([2,4,6,7,8,12,13,16,17,18,19,20,25,26,27], axis = 1, inplace = True)\n",
    "scf.columns = ['date','bunds2', 'bunds5', 'bunds10', 'ust2', 'ust5', 'ust10', 'eu_libor3', 'us_libor3', 'fed_target', 'fed_effect', 'ecb_key', 'ecb_depo']\n",
    "\n",
    "scf[0:20]"
   ]
  },
  {
   "cell_type": "code",
   "execution_count": null,
   "metadata": {},
   "outputs": [],
   "source": [
    "# calculate monthly averages\n",
    "count = 0\n",
    "index = 0\n",
    "\n",
    "sumbund2 = 0\n",
    "sumbund5 = 0\n",
    "sumbund10 = 0\n",
    "\n",
    "sumust2 = 0\n",
    "sumust5 = 0\n",
    "sumust10 = 0\n",
    "\n",
    "sumeu_libor3 = 0\n",
    "sumus_libor3 = 0\n",
    "\n",
    "sumfed_target = 0\n",
    "sumfed_effect = 0\n",
    "sumecb_key = 0\n",
    "sumecb_depo = 0\n",
    "\n",
    "bund2_mean = []\n",
    "bund5_mean = []\n",
    "bund10_mean = []\n",
    "ust2_mean = []\n",
    "ust5_mean = []\n",
    "ust10_mean = []\n",
    "\n",
    "eulibor_mean = []\n",
    "ustlibor_mean = []\n",
    "\n",
    "fedtarget_mean = []\n",
    "fedeffect_mean = []\n",
    "ecbkey_mean = []\n",
    "ecbdepo_mean = []\n",
    "\n",
    "\n",
    "for i in range(scf.shape[0]-1):\n",
    "    if scf['date'].iloc[index].month == scf['date'].iloc[index+1].month:\n",
    "                \n",
    "        sumbund2 = sumbund2 + scf['bunds2'].iloc[index]\n",
    "        sumbund5 = sumbund5 + scf['bunds5'].iloc[index]\n",
    "        sumbund10 = sumbund10 + scf['bunds10'].iloc[index]\n",
    "\n",
    "        sumust2 = sumust2 + scf['ust2'].iloc[index]\n",
    "        sumust5 = sumust5 + scf['ust5'].iloc[index]\n",
    "        sumust10 = sumust10 + scf['ust10'].iloc[index]\n",
    "\n",
    "        sumeu_libor3 = sumeu_libor3 + scf['eu_libor3'].iloc[index]\n",
    "        sumus_libor3 = sumus_libor3 + scf['us_libor3'].iloc[index]\n",
    "\n",
    "        sumfed_target = sumfed_target + scf['fed_target'].iloc[index]\n",
    "        sumfed_effect = sumfed_effect + scf['fed_effect'].iloc[index]\n",
    "        sumecb_key = sumecb_key + scf['ecb_key'].iloc[index]\n",
    "        sumecb_depo = sumecb_depo + scf['ecb_depo'].iloc[index]\n",
    "        \n",
    "        count = count + 1\n",
    "        index = index + 1\n",
    "    else:\n",
    "        sumbund2 = sumbund2 + scf['bunds2'].iloc[index]\n",
    "        sumbund5 = sumbund5 + scf['bunds5'].iloc[index]\n",
    "        sumbund10 = sumbund10 + scf['bunds10'].iloc[index]\n",
    "\n",
    "        sumust2 = sumust2 + scf['ust2'].iloc[index]\n",
    "        sumust5 = sumust5 + scf['ust5'].iloc[index]\n",
    "        sumust10 = sumust10 + scf['ust10'].iloc[index]\n",
    "\n",
    "        sumeu_libor3 = sumeu_libor3 + scf['eu_libor3'].iloc[index]\n",
    "        sumus_libor3 = sumus_libor3 + scf['us_libor3'].iloc[index]\n",
    "\n",
    "        sumfed_target = sumfed_target + scf['fed_target'].iloc[index]\n",
    "        sumfed_effect = sumfed_effect + scf['fed_effect'].iloc[index]\n",
    "        sumecb_key = sumecb_key + scf['ecb_key'].iloc[index]\n",
    "        sumecb_depo = sumecb_depo + scf['ecb_depo'].iloc[index]\n",
    "        \n",
    "        count = count + 1\n",
    "        \n",
    "        bund2_mean.append(sumbund2/count)\n",
    "        bund5_mean.append(sumbund5/count)\n",
    "        bund10_mean.append(sumbund10/count)\n",
    "        \n",
    "        ust2_mean.append(sumust2/count)\n",
    "        ust5_mean.append(sumust5/count)\n",
    "        ust10_mean.append(sumust10/count)\n",
    "\n",
    "        eulibor_mean.append(sumeu_libor3/count)\n",
    "        ustlibor_mean.append(sumus_libor3/count)\n",
    "\n",
    "        fedtarget_mean.append(sumfed_target/count)\n",
    "        fedeffect_mean.append(sumfed_effect/count)\n",
    "        ecbkey_mean.append(sumecb_key/count)\n",
    "        ecbdepo_mean.append(sumecb_depo/count)\n",
    "        \n",
    "        sumbund2 = 0\n",
    "        sumbund5 = 0\n",
    "        sumbund10 = 0\n",
    "\n",
    "        sumust2 = 0\n",
    "        sumust5 = 0\n",
    "        sumust10 = 0\n",
    "\n",
    "        sumeu_libor3 = 0\n",
    "        sumus_libor3 = 0\n",
    "\n",
    "        sumfed_target = 0\n",
    "        sumfed_effect = 0\n",
    "        sumecb_key = 0\n",
    "        sumecb_depo = 0\n",
    "                \n",
    "        count = 0\n",
    "        index = index + 1\n",
    "\n",
    "        \n",
    "\n",
    "\n",
    "    \n",
    "    \n"
   ]
  },
  {
   "cell_type": "code",
   "execution_count": null,
   "metadata": {},
   "outputs": [],
   "source": [
    "#forming dataframe from monthly means\n",
    "\n",
    "scf_means = pd.DataFrame(\n",
    "    {'bunds2':bund2_mean, \n",
    "     'bunds5':bund5_mean, \n",
    "     'bunds10':bund10_mean, \n",
    "     'ust2':ust2_mean, \n",
    "     'ust5':ust5_mean, \n",
    "     'ust10':ust10_mean, \n",
    "     'eu_libor3':eulibor_mean, \n",
    "     'us_libor3':ustlibor_mean, \n",
    "     'fed_target':fedtarget_mean, \n",
    "     'fed_effect':fedeffect_mean, \n",
    "     'ecb_key':ecbkey_mean, \n",
    "     'ecb_depo':ecbdepo_mean\n",
    "      \n",
    "    })\n",
    "\n",
    "scf_means_filled =  scf_means[0:250]"
   ]
  },
  {
   "cell_type": "code",
   "execution_count": null,
   "metadata": {},
   "outputs": [],
   "source": [
    "scf_means.head()"
   ]
  },
  {
   "cell_type": "markdown",
   "metadata": {},
   "source": [
    "### Нейросеть"
   ]
  },
  {
   "cell_type": "code",
   "execution_count": null,
   "metadata": {},
   "outputs": [],
   "source": [
    "predictions['fed_target'] = 0.25\n",
    "predictions.iloc[12, 0] = 0.5\n",
    "predictions['ecb_key'] = 0\n",
    "predictions['bunds2'][0] = scf_means['bunds2'][0]\n",
    "predictions\n"
   ]
  },
  {
   "cell_type": "code",
   "execution_count": null,
   "metadata": {},
   "outputs": [],
   "source": [
    "#функция для отбора нейросетей\n",
    "def rates_model(Xtrain, ytrain, Xtest, ytest):\n",
    "    min_mse = 1  \n",
    "    for n_neurons in range(2,6):\n",
    "        for i in [1e-2,1e-3,1e-4]:\n",
    "            model = Sequential()\n",
    "            model.add(tf.keras.Input(shape=(2,)))\n",
    "            model.add(Dense(n_neurons, activation='linear'))\n",
    "            model.add(Dense(1, activation='linear'))\n",
    "            opt = optimizers.Adam(lr = i)\n",
    "            model.compile(loss = 'mean_squared_error', optimizer = opt)\n",
    "            history = model.fit(Xtrain, ytrain, \n",
    "                                validation_data = (Xtest, ytest), \n",
    "                                epochs = 50, verbose = 0)\n",
    "\n",
    "            # Plot training & validation loss values\n",
    "\n",
    "            plt.plot(history.history['loss'])\n",
    "            plt.plot(history.history['val_loss'])\n",
    "            title_text = 'Model parameters:' + str(n_neurons) + ' neurons, ' + str(i) + ' learning rate'\n",
    "            plt.title(title_text)\n",
    "            plt.ylabel('Loss')\n",
    "            plt.xlabel('Epoch')\n",
    "            plt.legend(['Train', 'Test'], loc='upper left')\n",
    "            plt.show()\n",
    "            print('Ошибка на тестовом сете: ', history.history['val_loss'][-1])\n",
    "\n",
    "            current_mse = history.history['val_loss'][-1]\n",
    "            if current_mse < min_mse:\n",
    "                min_mse = current_mse\n",
    "                best_model = model\n",
    "\n",
    "    return best_model, min_mse"
   ]
  },
  {
   "cell_type": "code",
   "execution_count": null,
   "metadata": {},
   "outputs": [],
   "source": [
    "indicators = ['bunds2', \n",
    "     'bunds5', \n",
    "     'bunds10', \n",
    "     'ust2', \n",
    "     'ust5', \n",
    "     'ust10', \n",
    "     'eu_libor3', \n",
    "     'us_libor3']\n"
   ]
  },
  {
   "cell_type": "code",
   "execution_count": null,
   "metadata": {},
   "outputs": [],
   "source": [
    "#Прогноз Bunds\n",
    "for item in ['bunds2', 'bunds5', 'bunds10', 'eu_libor3']:\n",
    "    X = pd.DataFrame(columns = ['ecb_key', item])\n",
    "    y = pd.DataFrame(columns = [item])\n",
    "    X['ecb_key'] = scf_means_filled['ecb_key'][0:]\n",
    "    X[item][0:240] = scf_means_filled[item][1:241]\n",
    "    y[item] = scf_means_filled[item][0:240]\n",
    "    X = X[0:240][:]\n",
    "    y = y[0:240]\n",
    "    \n",
    "    Xtrain, Xtest, ytrain, ytest = train_test_split(X, y, test_size=0.33, random_state=42)\n",
    "#     breakpoint = 30\n",
    "#     X_train = X[breakpoint:240]\n",
    "#     X_test = X[0:breakpoint]\n",
    "#     y_train = y[breakpoint:240]\n",
    "#     y_test = y[0:breakpoint]\n",
    "    \n",
    "    predictions [item][0] = scf_means_filled[item][0] \n",
    "\n",
    "    best_model, min_mse = rates_model(X_train, y_train, X_test, y_test)\n",
    "\n",
    "    for i in range(1, 13):\n",
    "\n",
    "        features = np.array([[predictions['ecb_key'][i], predictions[item][i-1]]],dtype = 'float64')\n",
    "        pred = model.predict(features)\n",
    "        predictions[item][i] = pred.reshape(-1)[0]\n",
    "predictions"
   ]
  },
  {
   "cell_type": "code",
   "execution_count": null,
   "metadata": {},
   "outputs": [],
   "source": [
    "from sklearn.model_selection import train_test_split"
   ]
  },
  {
   "cell_type": "code",
   "execution_count": null,
   "metadata": {},
   "outputs": [],
   "source": [
    "for item in ['bunds2', 'bunds5', 'bunds10', 'eu_libor3']:\n",
    "    X = pd.DataFrame(columns = ['ecb_key', item])\n",
    "    y = pd.DataFrame(columns = [item])\n",
    "    X['ecb_key'] = scf_means_filled['ecb_key'][0:]\n",
    "    X[item][0:240] = scf_means_filled[item][1:241]\n",
    "    y[item] = scf_means_filled[item][0:240]\n",
    "    X = X[0:240][:]\n",
    "    y = y[0:240]\n",
    "\n",
    "    X = X.apply(pd.to_numeric, errors='coerce')\n",
    "\n",
    "    Xtrain, Xtest, ytrain, ytest = train_test_split(X, y, test_size=0.33, random_state=42)\n",
    "#     breakpoint = 12\n",
    "#     Xtrain = X[breakpoint:240]\n",
    "#     Xtest = X[0:breakpoint]\n",
    "#     ytrain = y[breakpoint:240]\n",
    "#     ytest = y[0:breakpoint]\n",
    "\n",
    "    predictions [item][0] = scf_means_filled[item][0] \n",
    "    model, mse = rates_model(Xtrain, ytrain,Xtest, ytest)\n",
    "    \n",
    "\n",
    "    for i in range(1, 13):\n",
    "\n",
    "        features = np.array([[predictions['ecb_key'][i], predictions[item][i-1]]],dtype = 'float64')\n",
    "        pred = model.predict(features)\n",
    "        predictions[item][i] = pred.reshape(-1)[0]\n",
    "predictions"
   ]
  },
  {
   "cell_type": "code",
   "execution_count": null,
   "metadata": {},
   "outputs": [],
   "source": [
    "for item in ['ust2', 'ust5', 'ust10', 'us_libor3']:\n",
    "    X = pd.DataFrame(columns = ['fed_target', item])\n",
    "    y = pd.DataFrame(columns = [item])\n",
    "    X['fed_target'] = scf_means_filled['fed_target'][0:]\n",
    "    X[item][0:240] = scf_means_filled[item][1:241]\n",
    "    y[item] = scf_means_filled[item][0:240]\n",
    "    X = X[0:240][:]\n",
    "    y = y[0:240]\n",
    "\n",
    "    X = X.apply(pd.to_numeric, errors='coerce')\n",
    "\n",
    "    Xtrain, Xtest, ytrain, ytest = train_test_split(X, y, test_size=0.33, random_state=42)\n",
    "#     breakpoint = 12\n",
    "#     Xtrain = X[breakpoint:240]\n",
    "#     Xtest = X[0:breakpoint]\n",
    "#     ytrain = y[breakpoint:240]\n",
    "#     ytest = y[0:breakpoint]\n",
    "\n",
    "    predictions [item][0] = scf_means_filled[item][0] \n",
    "    model = Sequential()\n",
    "    model.add(tf.keras.Input(shape=(2,)))\n",
    "    model.add(Dense(4, activation='relu'))\n",
    "    model.add(Dense(1, activation='linear'))\n",
    "    opt = optimizers.Adam(lr = 1e-3)\n",
    "    model.compile(loss = 'mean_squared_error', optimizer = opt)\n",
    "\n",
    "    #best_model, min_mse = rates_model(X_train, y_train, X_test, y_test)\n",
    "    history = model.fit(Xtrain, ytrain, \n",
    "                        validation_data = (Xtest, ytest), \n",
    "                        epochs = 100, verbose = 0)\n",
    "    plt.figure(figsize=(20,10))\n",
    "    plt.plot(history.history['loss'])\n",
    "    plt.plot(history.history['val_loss'])\n",
    "    plt.legend(['Train', 'Test'], loc='upper left')\n",
    "    plt.title('Loss: ' + str(history.history['val_loss'][-1]))\n",
    "    plt.show()\n",
    "\n",
    "    for i in range(1, 13):\n",
    "\n",
    "        features = np.array([[predictions['fed_target'][i], predictions[item][i-1]]],dtype = 'float64')\n",
    "        pred = model.predict(features)\n",
    "        predictions[item][i] = pred.reshape(-1)[0]\n",
    "predictions"
   ]
  },
  {
   "cell_type": "code",
   "execution_count": null,
   "metadata": {},
   "outputs": [],
   "source": [
    "type(predictions['bunds2'][0])"
   ]
  },
  {
   "cell_type": "code",
   "execution_count": null,
   "metadata": {},
   "outputs": [],
   "source": [
    "item = 'bunds2'\n",
    "for i in range(1, 13):\n",
    "\n",
    "    features = np.array([[predictions['ecb_key'][i], predictions[item][i-1]]],dtype = 'float64')\n",
    "    pred = model.predict(features)\n",
    "    predictions[item][i] = pred.reshape(-1)[0]\n",
    "predictions"
   ]
  },
  {
   "cell_type": "code",
   "execution_count": null,
   "metadata": {},
   "outputs": [],
   "source": [
    "item = 'bunds2'\n",
    "X = pd.DataFrame(columns = ['ecb_key', item])\n",
    "y = pd.DataFrame(columns = [item])\n",
    "X['ecb_key'] = scf_means_filled['ecb_key'][0:]\n",
    "X[item][0:240] = scf_means_filled[item][1:241]\n",
    "y[item] = scf_means_filled[item][0:240]\n",
    "X = X[0:240][:]\n",
    "y = y[0:240]\n",
    "\n",
    "\n",
    "\n",
    "breakpoint = 30\n",
    "Xtrain = X[breakpoint:240]\n",
    "Xtest = X[0:breakpoint]\n",
    "ytrain = y[breakpoint:240]\n",
    "ytest = y[0:breakpoint]"
   ]
  },
  {
   "cell_type": "code",
   "execution_count": null,
   "metadata": {},
   "outputs": [],
   "source": [
    "X = X.apply(pd.to_numeric, errors='coerce')\n",
    "X.dtypes"
   ]
  },
  {
   "cell_type": "code",
   "execution_count": null,
   "metadata": {},
   "outputs": [],
   "source": [
    "model.summary()"
   ]
  },
  {
   "cell_type": "code",
   "execution_count": null,
   "metadata": {},
   "outputs": [],
   "source": []
  },
  {
   "cell_type": "code",
   "execution_count": null,
   "metadata": {},
   "outputs": [],
   "source": [
    "for i in range(1, 13):\n",
    "    pred = np.reshape(best_model.predict([[predictions['bunds2'][i-1], predictions['ecb'][i]]]), -1)\n",
    "    predictions['bunds2'][i] = pred[0]"
   ]
  },
  {
   "cell_type": "code",
   "execution_count": null,
   "metadata": {},
   "outputs": [],
   "source": [
    "predictions"
   ]
  },
  {
   "cell_type": "code",
   "execution_count": null,
   "metadata": {},
   "outputs": [],
   "source": [
    "pred = np.reshape(best_model.predict([[predictions['bunds2'][0], predictions['ecb'][1]]]), -1)"
   ]
  },
  {
   "cell_type": "code",
   "execution_count": null,
   "metadata": {},
   "outputs": [],
   "source": [
    "scf_means.notna().sum()"
   ]
  },
  {
   "cell_type": "code",
   "execution_count": null,
   "metadata": {},
   "outputs": [],
   "source": [
    "scf_means_filled =  scf_means[0:250]"
   ]
  },
  {
   "cell_type": "code",
   "execution_count": null,
   "metadata": {},
   "outputs": [],
   "source": [
    "pps.matrix(scf_means_filled)"
   ]
  },
  {
   "cell_type": "markdown",
   "metadata": {},
   "source": [
    "# 2.1 Прогноз либоров"
   ]
  },
  {
   "cell_type": "code",
   "execution_count": null,
   "metadata": {},
   "outputs": [],
   "source": [
    "scf_means[0:30]"
   ]
  },
  {
   "cell_type": "code",
   "execution_count": null,
   "metadata": {},
   "outputs": [],
   "source": [
    "#splitting into train/test for libor\n",
    "\n",
    "#using lagged output values to construct X array of eur libor\n",
    "X = np.nan\n",
    "X = scf_means.iloc[:, [10,11]]\n",
    "X['liborlag']  = scf_means.iloc[1:361, [6]]\n",
    "\n",
    "#moving lagged values to the previous position to get rid of NAN\n",
    "for i in range (0,359):\n",
    "    X.loc[i][2] = X.loc[i+1][2]\n",
    "    \n",
    "#no need to reshape X here because it is a dataframe,not an array\n",
    "\n",
    "# array of output\n",
    "y = scf_means['eu_libor3']\n",
    "\n",
    "X = X[0:241][:]\n",
    "y = y[0:241]\n",
    "X_train = X[40:240]\n",
    "X_test = X[0:40]\n",
    "y_train = y[40:240]\n",
    "y_test = y[0:40]\n",
    "\n",
    "\n",
    "\n",
    "\n",
    "\n"
   ]
  },
  {
   "cell_type": "code",
   "execution_count": null,
   "metadata": {},
   "outputs": [],
   "source": [
    "# choosing model to predict EU Libor\n",
    "model = model_selection(X, y)\n",
    "model.fit(X_train, y_train)\n",
    "y_pred = model.predict(X_test)\n",
    "print('Forecast:', y_pred[0])\n",
    "print('Fact:', y[0])\n",
    "print('RMSE:',min_mse**0.5)\n",
    "print(model.coef_)\n",
    "print(model)"
   ]
  },
  {
   "cell_type": "code",
   "execution_count": null,
   "metadata": {},
   "outputs": [],
   "source": [
    "#using lagged output values to construct X array of usd libor\n",
    "X = np.nan\n",
    "\n",
    "X = scf_means.iloc[:, [8,9]]\n",
    "X['liborlag']  = scf_means.iloc[1:361, [7]]\n",
    "\n",
    "for i in range (0,359):\n",
    "    X.loc[i][2] = X.loc[i+1][2]\n",
    "\n",
    "# array of output\n",
    "y = scf_means['us_libor3']\n",
    "X = X[0:241][:]\n",
    "y = y[0:241]\n",
    "X_train = X[40:359]\n",
    "X_test = X[0:40]\n",
    "y_train = y[40:359]\n",
    "y_test = y[0:40]"
   ]
  },
  {
   "cell_type": "code",
   "execution_count": null,
   "metadata": {},
   "outputs": [],
   "source": [
    "type(X.iloc[0,0])"
   ]
  },
  {
   "cell_type": "code",
   "execution_count": null,
   "metadata": {},
   "outputs": [],
   "source": [
    "# predict libor usd using lags\n",
    "from sklearn.model_selection import TimeSeriesSplit\n",
    "X = scf_means['us_libor3'].shift(-1)\n",
    "y = scf_means['us_libor3']\n",
    "X = X[0:359]\n",
    "y = y[0:359]\n",
    "tscv = TimeSeriesSplit(n_splits=5)\n"
   ]
  },
  {
   "cell_type": "code",
   "execution_count": null,
   "metadata": {},
   "outputs": [],
   "source": [
    "#choosing model to predict USD Libor\n",
    "model = model_selection(X, y)\n",
    "model.fit(X_train, y_train)\n",
    "y_pred = model.predict(X_test)\n",
    "\n",
    "\n",
    "print('Forecast:', y_pred[0])\n",
    "print('Fact:', y[0])\n",
    "print('RMSE:',min_mse**0.5)\n",
    "\n",
    "print(model)"
   ]
  },
  {
   "cell_type": "code",
   "execution_count": null,
   "metadata": {},
   "outputs": [],
   "source": [
    "type(y_test)"
   ]
  },
  {
   "cell_type": "code",
   "execution_count": null,
   "metadata": {},
   "outputs": [],
   "source": [
    "#протестируем нейросеть\n",
    "model = Sequential()\n",
    "model.add(Dense(6, input_dim = 3))\n",
    "model.add(Activation('relu'))\n",
    "model.add(Dense(3, input_dim = 6))\n",
    "model.add(Activation('relu'))\n",
    "model.add(Dense(1, input_dim = 3))\n",
    "model.add(Activation('exponential'))\n",
    "sgd = optimizers.SGD(lr=1e-3)\n",
    "model.compile(loss = 'mean_squared_error', optimizer = sgd)\n",
    "\n",
    "\n",
    "ann = model\n",
    "print(ann.summary())\n",
    "history = ann.fit(X_train, y_train, validation_data = (X_test, y_test), epochs = 500, verbose = 0)\n",
    "\n",
    "# Plot training & validation loss values\n",
    "plt.plot(history.history['loss'])\n",
    "plt.plot(history.history['val_loss'])\n",
    "plt.title('Model loss')\n",
    "plt.ylabel('Loss')\n",
    "plt.xlabel('Epoch')\n",
    "plt.legend(['Train', 'Test'], loc='upper left')\n",
    "plt.show()\n",
    "print('Ошибка на тестовом сете: ', history.history['val_loss'][-1])"
   ]
  },
  {
   "cell_type": "code",
   "execution_count": null,
   "metadata": {},
   "outputs": [],
   "source": []
  },
  {
   "cell_type": "code",
   "execution_count": null,
   "metadata": {},
   "outputs": [],
   "source": [
    "y_pred = model.predict(X_test)\n",
    "\n",
    "\n",
    "print('Forecast:', y_pred[0])\n",
    "print('Fact:', y[0])\n",
    "print('RMSE:',min_mse**0.5)\n",
    "\n",
    "print(model)"
   ]
  },
  {
   "cell_type": "code",
   "execution_count": null,
   "metadata": {},
   "outputs": [],
   "source": [
    "X.head()"
   ]
  },
  {
   "cell_type": "code",
   "execution_count": null,
   "metadata": {},
   "outputs": [],
   "source": [
    "model.predict([[0.25, 0.19, 0.57]])"
   ]
  },
  {
   "cell_type": "markdown",
   "metadata": {},
   "source": [
    "# 2.2 Прогноз Bunds"
   ]
  },
  {
   "cell_type": "code",
   "execution_count": null,
   "metadata": {},
   "outputs": [],
   "source": [
    "scf_means.notna().sum()"
   ]
  },
  {
   "cell_type": "code",
   "execution_count": null,
   "metadata": {},
   "outputs": [],
   "source": [
    "#splitting into train/test for Bund2\n",
    "# forecasting is based on ecb and fed rates, us and eu libor, bund2 lagged values\n",
    "\n",
    "\n",
    "X = scf_means.iloc[:, [6,7,8,10,11]]\n",
    "X['bunds2lag']  = scf_means.iloc[1:, [0]]\n",
    "\n",
    "#using lagged output values to construct X array of eur libor\n",
    "\n",
    "for i in range (0,241):\n",
    "    X.loc[i][5] = X.loc[i+1][5]\n",
    "\n",
    "# array of output\n",
    "y = scf_means['bunds2']\n",
    "\n",
    "X = X[0:241][:]\n",
    "y = y[0:241]\n",
    "X_train = X[80:240]\n",
    "X_test = X[0:80]\n",
    "y_train = y[80:240]\n",
    "y_test = y[0:80]"
   ]
  },
  {
   "cell_type": "code",
   "execution_count": null,
   "metadata": {},
   "outputs": [],
   "source": [
    "#splitting into train/test for Bund2\n",
    "# forecasting is based on ecb and fed rates, us and eu libor, bund2 lagged values\n",
    "\n",
    "\n",
    "X = scf_means.iloc[:, [6,7,8,10,11]]\n",
    "X['bunds2lag']  = scf_means.iloc[1:, [0]]\n",
    "\n",
    "#using lagged output values to construct X array of bunds\n",
    "\n",
    "for i in range (0,241):\n",
    "    X.loc[i][5] = X.loc[i+1][5]\n",
    "\n",
    "# array of output\n",
    "y = scf_means['bunds2']\n",
    "\n",
    "X = X[0:241][:]\n",
    "y = y[0:241]\n",
    "X_train = X[80:240]\n",
    "X_test = X[0:80]\n",
    "y_train = y[80:240]\n",
    "y_test = y[0:80]"
   ]
  },
  {
   "cell_type": "code",
   "execution_count": null,
   "metadata": {},
   "outputs": [],
   "source": [
    "X.head()"
   ]
  },
  {
   "cell_type": "code",
   "execution_count": null,
   "metadata": {},
   "outputs": [],
   "source": [
    "#choosing model to predict bunds2\n",
    "model = model_selection(X, y)\n",
    "model.fit(X_train, y_train)\n",
    "y_pred = model.predict(X_test)\n",
    "print('Forecast:',y_pred[0])\n",
    "print('Fact:', y[0])\n",
    "print('RMSE:',min_mse**0.5)\n",
    "print(model)"
   ]
  },
  {
   "cell_type": "code",
   "execution_count": null,
   "metadata": {},
   "outputs": [],
   "source": [
    "plt.gca().invert_xaxis()\n",
    "plt.plot(y_pred, label = 'pred')\n",
    "plt.plot(y_test, label = 'test')\n",
    "plt.legend(loc=\"upper left\")\n",
    "plt.grid(True)"
   ]
  },
  {
   "cell_type": "code",
   "execution_count": null,
   "metadata": {},
   "outputs": [],
   "source": [
    "#протестируем нейросеть\n",
    "model = Sequential()\n",
    "model.add(Dense(6, input_dim = 6))\n",
    "model.add(Activation('relu'))\n",
    "model.add(Dense(3, input_dim = 6))\n",
    "model.add(Activation('relu'))\n",
    "model.add(Dense(1, input_dim = 3))\n",
    "model.add(Activation('exponential'))\n",
    "sgd = optimizers.SGD(lr=1e-2)\n",
    "model.compile(loss = 'mean_squared_error', optimizer = sgd)\n",
    "\n",
    "\n",
    "ann = model\n",
    "print(ann.summary())\n",
    "history = ann.fit(X_train, y_train, validation_data = (X_test, y_test), epochs = 1500, verbose = 0)\n",
    "\n",
    "# Plot training & validation loss values\n",
    "plt.plot(history.history['loss'])\n",
    "plt.plot(history.history['val_loss'])\n",
    "plt.title('Model loss')\n",
    "plt.ylabel('Loss')\n",
    "plt.xlabel('Epoch')\n",
    "plt.legend(['Train', 'Test'], loc='upper left')\n",
    "plt.show()\n",
    "print('Ошибка на тестовом сете: ', history.history['val_loss'][-1])"
   ]
  },
  {
   "cell_type": "markdown",
   "metadata": {},
   "source": [
    "# 2.3 Прогноз T-bills"
   ]
  },
  {
   "cell_type": "code",
   "execution_count": null,
   "metadata": {},
   "outputs": [],
   "source": [
    "scf_means"
   ]
  },
  {
   "cell_type": "code",
   "execution_count": null,
   "metadata": {},
   "outputs": [],
   "source": [
    "#splitting into train/test for tbills5\n",
    "# forecasting is based   us  libor, fed rates, lagged values\n",
    "\n",
    "\n",
    "X = scf_means.iloc[:, [7,8]]\n",
    "X['ust5']  = scf_means.iloc[1:, [4]]\n",
    "X\n",
    "#using lagged output values to construct X array \n",
    "\n",
    "for i in range (0,241):\n",
    "    X.loc[i][2] = X.loc[i+1][2]\n",
    "\n",
    "# array of output\n",
    "y = scf_means['ust5']\n",
    "\n",
    "X = X[0:241][:]\n",
    "y = y[0:241]\n",
    "X_train = X[40:240]\n",
    "X_test = X[0:40]\n",
    "y_train = y[40:240]\n",
    "y_test = y[0:40]"
   ]
  },
  {
   "cell_type": "code",
   "execution_count": null,
   "metadata": {},
   "outputs": [],
   "source": [
    "X"
   ]
  },
  {
   "cell_type": "code",
   "execution_count": null,
   "metadata": {},
   "outputs": [],
   "source": [
    "#choosing model to predict tbills5\n",
    "model = model_selection(X, y)\n",
    "model.fit(X_train, y_train)\n",
    "y_pred = model.predict(X_test)\n",
    "print('Forecast:',y_pred[0])\n",
    "print('Fact:', y[0])\n",
    "print('RMSE:',min_mse**0.5)\n",
    "print(model)"
   ]
  },
  {
   "cell_type": "code",
   "execution_count": null,
   "metadata": {},
   "outputs": [],
   "source": [
    "plt.gca().invert_xaxis()\n",
    "plt.plot(y_pred, label = 'pred')\n",
    "plt.plot(y_test, label = 'test')\n",
    "plt.legend(loc=\"upper left\")\n",
    "plt.grid(True)"
   ]
  },
  {
   "cell_type": "code",
   "execution_count": null,
   "metadata": {},
   "outputs": [],
   "source": [
    "model.coef_"
   ]
  },
  {
   "cell_type": "code",
   "execution_count": null,
   "metadata": {},
   "outputs": [],
   "source": [
    "model.intercept_"
   ]
  },
  {
   "cell_type": "markdown",
   "metadata": {},
   "source": [
    "# 3. Модуль вывода"
   ]
  },
  {
   "cell_type": "code",
   "execution_count": null,
   "metadata": {},
   "outputs": [],
   "source": [
    "print('Прогнозы для ДВК')\n",
    "print ('\\n')\n",
    "print('Прогноз среднего курса EURUSD на 4 месяца:', [round(float(eurfc[i]),3) for i in range(0,4)])\n",
    "print('Прогноз среднего курса EURCHF на 4 месяца:', [round(float(chffc[i]),3) for i in range(0,4)])\n",
    "print('Прогноз среднего курса GBPUSD на 4 месяца:', [round(float(gbpfc[i]),3) for i in range(0,4)])"
   ]
  },
  {
   "cell_type": "code",
   "execution_count": null,
   "metadata": {},
   "outputs": [],
   "source": [
    "print(\"Средний курс eurusd за текущий месяц:\", eurusd_mean[0])\n",
    "print(\"Средний курс eurchf за текущий месяц:\", chf_mean[0])\n",
    "print(\"Средний курс gbpusd за текущий месяц:\", gbp_mean[0])"
   ]
  },
  {
   "cell_type": "code",
   "execution_count": null,
   "metadata": {},
   "outputs": [],
   "source": [
    "print('Последние курсы')\n",
    "df.head()"
   ]
  },
  {
   "cell_type": "code",
   "execution_count": null,
   "metadata": {},
   "outputs": [],
   "source": []
  },
  {
   "cell_type": "code",
   "execution_count": null,
   "metadata": {},
   "outputs": [],
   "source": []
  }
 ],
 "metadata": {
  "kernelspec": {
   "display_name": "Python 3",
   "language": "python",
   "name": "python3"
  },
  "language_info": {
   "codemirror_mode": {
    "name": "ipython",
    "version": 3
   },
   "file_extension": ".py",
   "mimetype": "text/x-python",
   "name": "python",
   "nbconvert_exporter": "python",
   "pygments_lexer": "ipython3",
   "version": "3.7.6"
  }
 },
 "nbformat": 4,
 "nbformat_minor": 4
}
